{
 "cells": [
  {
   "cell_type": "markdown",
   "metadata": {},
   "source": [
    "# Tune angle for GIWAXS\n",
    "### First steps\n",
    "Run \"make_SAXS_macro.py\" or the following cell"
   ]
  },
  {
   "cell_type": "code",
   "execution_count": null,
   "metadata": {},
   "outputs": [],
   "source": [
    "import make_SAXS_macro as mk_macro\n",
    "\n",
    "start = 0.0     # angle to start sweep at\n",
    "finish = 1.2    # last angle to include\n",
    "step = 0.005    # how much angle to change between each exposure\n",
    "tag = \"\"        # optional text to add to file name\n",
    "\n",
    "# create list of angles to scan\n",
    "angles = mk_macro.arange(start, finish, step)\n",
    "\n",
    "# create file in Macros directory\n",
    "mk_macro.create_file(angles, tag)"
   ]
  },
  {
   "cell_type": "markdown",
   "metadata": {},
   "source": [
    "## Load data set"
   ]
  },
  {
   "cell_type": "code",
   "execution_count": 1,
   "metadata": {},
   "outputs": [
    {
     "name": "stdout",
     "output_type": "stream",
     "text": [
      "C:Users\\Teddy\\OneDrive - UCB-O365\\Rogerslab3\\Teddy\\TPP Films\\Unkown inclusion (benz, tolu, xyl)\\giwaxs\\TT5mm-02_2023-11-06\\tune\n",
      "angles shape: (240,)\n",
      "intensity_data shape: (240, 1065, 1030)\n",
      "direct_beam shape: (1065, 1030)\n"
     ]
    }
   ],
   "source": [
    "import numpy as np\n",
    "# import matplotlib.pylab as plt\n",
    "import gixspy.plot as plt\n",
    "import gixspy.loader as load\n",
    "import gixspy.fitting as fit\n",
    "%matplotlib qt\n",
    "# import show_tiff\n",
    "import tkinter\n",
    "\n",
    "default_path = \"/home/saxs/DATA\"\n",
    "\n",
    "# Create Tk root\n",
    "root = tkinter.Tk()\n",
    "# Hide the main window\n",
    "root.withdraw()\n",
    "root.call('wm', 'attributes', '.', '-topmost', True)\n",
    "\n",
    "# get list of paths (strings) to each data file\n",
    "# tiff_list = load.search_tiffs(default_path)\n",
    "# tiff_list = load.tiff_filenames(\n",
    "#         \"C:\\\\Users\\\\Teddy\\\\OneDrive - UCB-O365\\\\Rogerslab3\\\\Teddy\\\\XRD\\\\Silicon-silica-TT5-GIWAXS tune 2023-10-10\")\n",
    "tiff_list = load.tiff_filenames(\n",
    "         \"C:\\\\Users\\\\Teddy\\\\OneDrive - UCB-O365\\\\Rogerslab3\\\\Teddy\\\\TPP Films\\\\Unkown inclusion (benz, tolu, xyl)\\\\giwaxs\\\\TT5mm-02_2023-11-06\\\\tune\")\n",
    "\"\"\"\n",
    "Load data as numpy arrays.\n",
    "angles = 1D array of motor angle settings\n",
    "intenisty_data = 3D array of intesnities; indices are (angle_index, z_index, x_index)\n",
    "direct_beam = 2D array of intensity of the direct beam exposure; indices are (z_index, x_index)\n",
    "\"\"\"\n",
    "angles, intensity_data, direct_beam = load.tiff_data(tiff_list)\n",
    "\n",
    "print(\"angles shape: {}\".format(angles.shape))\n",
    "print(\"intensity_data shape: {}\".format(intensity_data.shape))\n",
    "print(\"direct_beam shape: {}\".format(direct_beam.shape))\n",
    "\n",
    "# %gui tk"
   ]
  },
  {
   "cell_type": "markdown",
   "metadata": {},
   "source": [
    "Optional: Display a file"
   ]
  },
  {
   "cell_type": "code",
   "execution_count": null,
   "metadata": {},
   "outputs": [],
   "source": [
    "clip = None         # clip intensity\n",
    "log_scale = True    # log scale\n",
    "\n",
    "plt.tiff(direct_beam, clip, log_scale)\n",
    "plt.show()"
   ]
  },
  {
   "cell_type": "markdown",
   "metadata": {},
   "source": [
    "### Crop data\n",
    "Will animate data to confirm the crop"
   ]
  },
  {
   "cell_type": "code",
   "execution_count": 2,
   "metadata": {},
   "outputs": [
    {
     "name": "stdout",
     "output_type": "stream",
     "text": [
      "done\n"
     ]
    }
   ],
   "source": [
    "x_pixel_width = 13  # number of pixels to sum across horizontally centered around the beam center\n",
    "pixels_above = 50   # number of pixels above the beam to keep (for crop)\n",
    "pixels_below = 20   # number of pixels below the beam to keep (for crop)\n",
    "pixel_size = 0.075  # mm/pixel\n",
    "\n",
    "\"\"\"Crop data\"\"\"\n",
    "id_c, db_c = load.crop_data(intensity_data, direct_beam, x_pixel_width, pixels_above, pixels_below)\n",
    "z_px = np.arange(db_c.shape[0])\n",
    "\n",
    "\"\"\"Animate\"\"\"\n",
    "frame_delay = 10    # milliseconds\n",
    "clip = None         # counts clipping level\n",
    "log = True          # animate on a log scale\n",
    "\n",
    "fig, ani = plt.animate(id_c, frame_delay, clip, log)\n",
    "\n",
    "\"\"\"Plot counts vs z vs counts\"\"\"\n",
    "clip = None         # counts clipping level\n",
    "log = True          # animate on a log scale\n",
    "plt.plot_all(angles, id_c, pixel_size, clip, log)\n",
    "\n",
    "print(\"done\")"
   ]
  },
  {
   "cell_type": "markdown",
   "metadata": {},
   "source": [
    "### Find direct beam with gaussian fit"
   ]
  },
  {
   "cell_type": "code",
   "execution_count": 7,
   "metadata": {},
   "outputs": [
    {
     "name": "stdout",
     "output_type": "stream",
     "text": [
      "Amplitude = 185797.3885831484 counts\n",
      "Center = 49.37260594967291 pixels\n",
      "Full width half max = 2.38150696828259 pixels\n",
      "Total counts in the data = 471003 counts\n",
      "Total counts in the fit = 471002.9989569331 counts\n",
      "(240, 70)\n",
      "(240, 70)\n"
     ]
    }
   ],
   "source": [
    "import matplotlib.pylab as plt2\n",
    "plot = True\n",
    "db_gfit = fit.direct_beam_line(db_c, plot)\n",
    "\n",
    "id_l = np.sum(id_c, axis=2)\n",
    "print(id_l.shape)\n",
    "\n",
    "db_fit = fit.gaussian0(z_px, *db_gfit).astype(int)\n",
    "subtract_db = np.copy(id_l)\n",
    "subtract_db[:, db_fit > 0] = id_l[0, 0]\n",
    "# subtract_db = id_l - db_fit\n",
    "# subtract_db[subtract_db < 0] = id_l[0, 0]\n",
    "print(subtract_db.shape)\n",
    "\n",
    "for ii in range(len(angles)):\n",
    "    plt2.plot(subtract_db[ii])\n",
    "\n",
    "plt2.figure()\n",
    "threshold = 3000\n",
    "subtract_db[subtract_db < threshold] = 0\n",
    "for ii in range(len(angles)):\n",
    "    plt2.plot(subtract_db[ii])\n",
    "\n",
    "\n",
    "id_gfit = fit.direct_beam_line(id_c, plot)\n",
    "\n"
   ]
  },
  {
   "cell_type": "code",
   "execution_count": 5,
   "metadata": {},
   "outputs": [
    {
     "name": "stdout",
     "output_type": "stream",
     "text": [
      "[2.38338277e+04 3.45131494e+01 3.26420243e-01 8.38033093e+04\n",
      " 4.88439189e+01 2.07448140e+00]\n",
      "Amplitude1 = 23833.827722242197 counts\n",
      "Center1 = 34.51314941405996 pixels\n",
      "Full width half max1 = 0.3264202434169318 pixels\n",
      "Amplitude2 = 83803.30928195185 counts\n",
      "Center2 = 48.84391890276079 pixels\n",
      "Full width half max2 = 2.0744814023009255 pixels\n"
     ]
    },
    {
     "data": {
      "text/plain": [
       "array([2.38338277e+04, 3.45131494e+01, 3.26420243e-01, 8.38033093e+04,\n",
       "       4.88439189e+01, 2.07448140e+00])"
      ]
     },
     "execution_count": 5,
     "metadata": {},
     "output_type": "execute_result"
    }
   ],
   "source": [
    "from scipy.optimize import curve_fit\n",
    "\n",
    "def gaussian_2_fit(x, y):\n",
    "    mean = np.sum(x * y) / np.sum(y)\n",
    "    sigma = np.sqrt(np.sum(y * (x - mean) ** 2) / sum(y))\n",
    "    fwhm = sigma * 2 * np.sqrt(2 * np.log(2))\n",
    "    params, _ = curve_fit(f=gaussian_2_peak, xdata=x, ydata=y,\n",
    "                          p0=[np.max(y), 0.5*(np.min(x)+np.max(x)), 2, np.max(y), mean, 2],\n",
    "                          bounds=((0, np.min(x), 0, 0, np.min(x), 0),\n",
    "                                  (np.inf, np.max(x), 50, np.inf, np.max(x), 50)))\n",
    "    return params\n",
    "\n",
    "def gaussian_2_peak(x, amplitude1, center1, fwhm1, amplitude2, center2, fwhm2):\n",
    "    return amplitude1 * np.exp(-4 * np.log(2) * ((x - center1) / fwhm1) ** 2) + \\\n",
    "        amplitude2 * np.exp(-4 * np.log(2) * ((x - center2) / fwhm2) ** 2)\n",
    "\n",
    "def line(intensity, plot=True):\n",
    "    intensity_l = np.sum(intensity, axis=1)\n",
    "    z_px = np.arange(len(intensity_l))\n",
    "    fit_params = gaussian_2_fit(z_px, intensity_l)\n",
    "    peak_num = 2\n",
    "    print(fit_params)\n",
    "    for ii in range(peak_num):\n",
    "        print(f\"Amplitude{ii+1} = {fit_params[ii*3]} counts\")\n",
    "        print(f\"Center{ii+1} = {fit_params[ii*3+1]} pixels\")\n",
    "        print(f\"Full width half max{ii+1} = {fit_params[ii*3+2]} pixels\")\n",
    "\n",
    "    if plot:\n",
    "        plt.plot_line_fit(intensity_l, gaussian_2_peak, fit_params)\n",
    "    return fit_params\n",
    "\n",
    "line(id_c[140])\n"
   ]
  },
  {
   "cell_type": "code",
   "execution_count": null,
   "metadata": {},
   "outputs": [],
   "source": [
    "def find_peaks(intensity, cutoff):\n",
    "    intensity_l = np.sum(intensity, axis=1)\n",
    "    z_px = np.arange(len(intensity_l))\n",
    "    above = np.where(intensity_l > cutoff)[0]\n",
    "    print(above)\n",
    "    print(np.diff(above))\n",
    "    indices = np.where(np.diff(above) > 1)[0]\n",
    "    print(indices)\n",
    "    for index in indices:\n",
    "        print(intensity_l[above[:index+1]])\n",
    "        print(intensity_l[above[index+1:]])\n",
    "find_peaks(id_c[140], 300)\n",
    "    "
   ]
  },
  {
   "cell_type": "markdown",
   "metadata": {},
   "source": []
  }
 ],
 "metadata": {
  "kernelspec": {
   "display_name": "Python 3",
   "language": "python",
   "name": "python3"
  },
  "language_info": {
   "codemirror_mode": {
    "name": "ipython",
    "version": 3
   },
   "file_extension": ".py",
   "mimetype": "text/x-python",
   "name": "python",
   "nbconvert_exporter": "python",
   "pygments_lexer": "ipython3",
   "version": "3.11.2"
  }
 },
 "nbformat": 4,
 "nbformat_minor": 2
}
