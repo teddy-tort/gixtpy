{
 "cells": [
  {
   "cell_type": "markdown",
   "metadata": {},
   "source": [
    "# Tune angle for GIWAXS\n",
    "### First steps\n",
    "Run \"make_SAXS_macro.py\" or the following cell"
   ]
  },
  {
   "cell_type": "code",
   "execution_count": 1,
   "metadata": {},
   "outputs": [
    {
     "name": "stdout",
     "output_type": "stream",
     "text": [
      "[0.0, 0.005, 0.01, 0.015, 0.02, 0.025, 0.03, 0.035, 0.04, 0.045, 0.05, 0.055, 0.06, 0.065, 0.07, 0.075, 0.08, 0.085, 0.09, 0.095, 0.1, 0.105, 0.11, 0.115, 0.12, 0.125, 0.13, 0.135, 0.14, 0.145, 0.15, 0.155, 0.16, 0.165, 0.17, 0.175, 0.18, 0.185, 0.19, 0.195, 0.2, 0.205, 0.21, 0.215, 0.22, 0.225, 0.23, 0.235, 0.24, 0.245, 0.25, 0.255, 0.26, 0.265, 0.27, 0.275, 0.28, 0.285, 0.29, 0.295, 0.3, 0.305, 0.31, 0.315, 0.32, 0.325, 0.33, 0.335, 0.34, 0.345, 0.35, 0.355, 0.36, 0.365, 0.37, 0.375, 0.38, 0.385, 0.39, 0.395, 0.4, 0.405, 0.41, 0.415, 0.42, 0.425, 0.43, 0.435, 0.44, 0.445, 0.45, 0.455, 0.46, 0.465, 0.47, 0.475, 0.48, 0.485, 0.49, 0.495, 0.5, 0.505, 0.51, 0.515, 0.52, 0.525, 0.53, 0.535, 0.54, 0.545, 0.55, 0.555, 0.56, 0.565, 0.57, 0.575, 0.58, 0.585, 0.59, 0.595, 0.6, 0.605, 0.61, 0.615, 0.62, 0.625, 0.63, 0.635, 0.64, 0.645, 0.65, 0.655, 0.66, 0.665, 0.67, 0.675, 0.68, 0.685, 0.69, 0.695, 0.7, 0.705, 0.71, 0.715, 0.72, 0.725, 0.73, 0.735, 0.74, 0.745, 0.75, 0.755, 0.76, 0.765, 0.77, 0.775, 0.78, 0.785, 0.79, 0.795, 0.8, 0.805, 0.81, 0.815, 0.82, 0.825, 0.83, 0.835, 0.84, 0.845, 0.85, 0.855, 0.86, 0.865, 0.87, 0.875, 0.88, 0.885, 0.89, 0.895, 0.9, 0.905, 0.91, 0.915, 0.92, 0.925, 0.93, 0.935, 0.94, 0.945, 0.95, 0.955, 0.96, 0.965, 0.97, 0.975, 0.98, 0.985, 0.99, 0.995, 1.0, 1.005, 1.01, 1.015, 1.02, 1.025, 1.03, 1.035, 1.04, 1.045, 1.05, 1.055, 1.06, 1.065, 1.07, 1.075, 1.08, 1.085, 1.09, 1.095, 1.1, 1.105, 1.11, 1.115, 1.12, 1.125, 1.13, 1.135, 1.14, 1.145, 1.15, 1.155, 1.16, 1.165, 1.17, 1.175, 1.18, 1.185, 1.19, 1.195]\n",
      "Writing Macro...\n",
      "Macro written\n",
      "Copy and paste the following into SAXS to run the macro:\n",
      "do c:\\Users\\Teddy\\Documents\\GitHub\\GIWAXS_tune\\GIWAXS_tune_2023-11-5.txt\n"
     ]
    }
   ],
   "source": [
    "import make_SAXS_macro as mk_macro\n",
    "\n",
    "start = 0.0     # angle to start sweep at\n",
    "finish = 1.2    # last angle to include\n",
    "step = 0.005    # how much angle to change between each exposure\n",
    "tag = \"\"        # optional text to add to file name\n",
    "\n",
    "# create list of angles to scan\n",
    "angles = mk_macro.arange(start, finish, step)\n",
    "\n",
    "# create file in Macros directory\n",
    "mk_macro.create_file(angles, tag)"
   ]
  },
  {
   "cell_type": "markdown",
   "metadata": {},
   "source": [
    "## Load data set"
   ]
  },
  {
   "cell_type": "code",
   "execution_count": 1,
   "metadata": {},
   "outputs": [
    {
     "name": "stdout",
     "output_type": "stream",
     "text": [
      "C:Users\\Teddy\\OneDrive - UCB-O365\\Rogerslab3\\Teddy\\TPP Films\\Unkown inclusion (benz, tolu, xyl)\\giwaxs\\tune\n"
     ]
    },
    {
     "name": "stderr",
     "output_type": "stream",
     "text": [
      "ERROR:root:Cannot activate multiple GUI eventloops\n"
     ]
    },
    {
     "name": "stdout",
     "output_type": "stream",
     "text": [
      "angles shape: (240,)\n",
      "intensity_data shape: (240, 1065, 1030)\n",
      "direct_beam shape: (1065, 1030)\n"
     ]
    }
   ],
   "source": [
    "import numpy as np\n",
    "import matplotlib.pylab as plt\n",
    "import plot_2d\n",
    "%matplotlib qt\n",
    "import loader\n",
    "import show_tiff\n",
    "import fitting\n",
    "import tkinter\n",
    "\n",
    "default_path = \"/home/saxs/DATA\"\n",
    "\n",
    "# Create Tk root\n",
    "root = tkinter.Tk()\n",
    "# Hide the main window\n",
    "root.withdraw()\n",
    "root.call('wm', 'attributes', '.', '-topmost', True)\n",
    "\n",
    "# get list of paths (strings) to each data file\n",
    "# tifs = loader.search_files(default_path)\n",
    "# tifs = loader.get_everthing(\n",
    "#         \"C:\\\\Users\\\\Teddy\\\\OneDrive - UCB-O365\\\\Rogerslab3\\\\Teddy\\\\XRD\\\\Silicon-silica-TT5-GIWAXS tune 2023-10-10\")\n",
    "tifs = loader.get_everthing(\n",
    "         \"C:\\\\Users\\\\Teddy\\\\OneDrive - UCB-O365\\\\Rogerslab3\\\\Teddy\\\\TPP Films\\\\Unkown inclusion (benz, tolu, xyl)\\\\giwaxs\\\\tune\")\n",
    "\"\"\"\n",
    "Load data as numpy arrays.\n",
    "angles = 1D array of motor angle settings\n",
    "intenisty_data = 3D array of intesnities; indices are (angle_index, z_index, x_index)\n",
    "direct_beam = 2D array of intensity of the direct beam exposure; indices are (z_index, x_index)\n",
    "\"\"\"\n",
    "angles, intensity_data, direct_beam = loader.load_files(tifs)\n",
    "\n",
    "print(\"angles shape: {}\".format(angles.shape))\n",
    "print(\"intensity_data shape: {}\".format(intensity_data.shape))\n",
    "print(\"direct_beam shape: {}\".format(direct_beam.shape))\n",
    "\n",
    "%gui tk"
   ]
  },
  {
   "cell_type": "markdown",
   "metadata": {},
   "source": [
    "Optional: Display a file"
   ]
  },
  {
   "cell_type": "code",
   "execution_count": 2,
   "metadata": {},
   "outputs": [],
   "source": [
    "clip = None     # clip intensity\n",
    "\n",
    "show_tiff.show(direct_beam, clip)\n",
    "plt.show()"
   ]
  },
  {
   "cell_type": "markdown",
   "metadata": {},
   "source": [
    "### Crop data\n",
    "Will animate data to confirm the crop"
   ]
  },
  {
   "cell_type": "code",
   "execution_count": 4,
   "metadata": {},
   "outputs": [
    {
     "name": "stdout",
     "output_type": "stream",
     "text": [
      "(240,)\n",
      "(70,)\n",
      "(240, 70)\n"
     ]
    }
   ],
   "source": [
    "x_pixel_width = 13  # number of pixels to sum across horizontally centered around the beam center\n",
    "pixels_above = 50   # number of pixels above the beam to keep (for crop)\n",
    "pixels_below = 20   # number of pixels below the beam to keep (for crop)\n",
    "pixel_size = 0.075  # mm/pixel\n",
    "\n",
    "\"\"\"Crop data\"\"\"\n",
    "id_c, db_c = loader.crop_data(intensity_data, direct_beam, x_pixel_width, pixels_above, pixels_below)\n",
    "\n",
    "\"\"\"Animate\"\"\"\n",
    "frame_delay = 10       # milliseconds\n",
    "clip = 20\n",
    "\n",
    "fig, ani = show_tiff.animate(id_c, frame_delay, clip)\n",
    "\n",
    "\"\"\"Plot 2D\"\"\"\n",
    "id_c = np.sum(id_c, axis=2)\n",
    "db_c = np.sum(db_c, axis=1)\n",
    "z_px = np.arange(len(db_c))\n",
    "z = (z_px[::-1] + 0.5) * pixel_size\n",
    "\n",
    "print(angles.shape)\n",
    "print(z.shape)\n",
    "print(id_c.shape)\n",
    "plot_2d.plot_all(angles, z, id_c)\n",
    "\n",
    "plt.show()"
   ]
  },
  {
   "cell_type": "markdown",
   "metadata": {},
   "source": [
    "### Find direct beam with gaussian fit"
   ]
  },
  {
   "cell_type": "code",
   "execution_count": 18,
   "metadata": {},
   "outputs": [
    {
     "name": "stdout",
     "output_type": "stream",
     "text": [
      "[-8.31274458e+04  5.97319976e+01 -1.18291069e+03]\n"
     ]
    }
   ],
   "source": [
    "# db_gfit = (amplitude (counts), center (z-pixels), sigma (z-pixels)) \n",
    "db_gfit = fitting.gaussian_constrained_fit(z, db_c)\n",
    "print(f\"amplitude = {gfit[0]} counts\")\n",
    "print(f\"center = {gfit[1]} pixels\")\n",
    "print(f\"\")\n",
    "#db_first_pixel = np.where(gaussian0(z, *gfit) > 1)[0][0]"
   ]
  },
  {
   "cell_type": "markdown",
   "metadata": {},
   "source": []
  }
 ],
 "metadata": {
  "kernelspec": {
   "display_name": "Python 3",
   "language": "python",
   "name": "python3"
  },
  "language_info": {
   "codemirror_mode": {
    "name": "ipython",
    "version": 3
   },
   "file_extension": ".py",
   "mimetype": "text/x-python",
   "name": "python",
   "nbconvert_exporter": "python",
   "pygments_lexer": "ipython3",
   "version": "3.11.2"
  }
 },
 "nbformat": 4,
 "nbformat_minor": 2
}
