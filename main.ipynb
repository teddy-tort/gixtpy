{
 "cells": [
  {
   "cell_type": "markdown",
   "metadata": {},
   "source": [
    "# Tune angle for GIWAXS\n",
    "### First steps\n",
    "Run \"make_SAXS_macro.py\" or the following cell"
   ]
  },
  {
   "cell_type": "code",
   "execution_count": null,
   "metadata": {},
   "outputs": [],
   "source": [
    "import make_SAXS_macro as mk_macro\n",
    "\n",
    "start = 0.0     # angle to start sweep at\n",
    "finish = 1.2    # last angle to include\n",
    "step = 0.005    # how much angle to change between each exposure\n",
    "tag = \"\"        # optional text to add to file name\n",
    "\n",
    "# create list of angles to scan\n",
    "angles = mk_macro.arange(start, finish, step)\n",
    "\n",
    "# create file in Macros directory\n",
    "mk_macro.create_file(angles, tag)"
   ]
  },
  {
   "cell_type": "markdown",
   "metadata": {},
   "source": [
    "## Load data set"
   ]
  },
  {
   "cell_type": "code",
   "execution_count": 7,
   "metadata": {},
   "outputs": [
    {
     "ename": "IndexError",
     "evalue": "list index out of range",
     "output_type": "error",
     "traceback": [
      "\u001b[1;31m---------------------------------------------------------------------------\u001b[0m",
      "\u001b[1;31mIndexError\u001b[0m                                Traceback (most recent call last)",
      "Cell \u001b[1;32mIn[7], line 25\u001b[0m\n\u001b[0;32m     17\u001b[0m tiff_list \u001b[38;5;241m=\u001b[39m gp\u001b[38;5;241m.\u001b[39msearch_tiff_files(default_path)\n\u001b[0;32m     19\u001b[0m \u001b[38;5;124;03m\"\"\"\u001b[39;00m\n\u001b[0;32m     20\u001b[0m \u001b[38;5;124;03mLoad data as numpy arrays.\u001b[39;00m\n\u001b[0;32m     21\u001b[0m \u001b[38;5;124;03mangles = 1D array of motor angle settings\u001b[39;00m\n\u001b[0;32m     22\u001b[0m \u001b[38;5;124;03mintenisty_data = 3D array of intesnities; indices are (angle_index, z_index, x_index)\u001b[39;00m\n\u001b[0;32m     23\u001b[0m \u001b[38;5;124;03mdirect_beam = 2D array of intensity of the direct beam exposure; indices are (z_index, x_index)\u001b[39;00m\n\u001b[0;32m     24\u001b[0m \u001b[38;5;124;03m\"\"\"\u001b[39;00m\n\u001b[1;32m---> 25\u001b[0m angles, intensity_data, direct_beam \u001b[38;5;241m=\u001b[39m \u001b[43mgp\u001b[49m\u001b[38;5;241;43m.\u001b[39;49m\u001b[43mload_tiff_data\u001b[49m\u001b[43m(\u001b[49m\u001b[43mtiff_list\u001b[49m\u001b[43m)\u001b[49m\n\u001b[0;32m     27\u001b[0m \u001b[38;5;28mprint\u001b[39m(\u001b[38;5;124m\"\u001b[39m\u001b[38;5;124mangles shape: \u001b[39m\u001b[38;5;132;01m{}\u001b[39;00m\u001b[38;5;124m\"\u001b[39m\u001b[38;5;241m.\u001b[39mformat(angles\u001b[38;5;241m.\u001b[39mshape))\n\u001b[0;32m     28\u001b[0m \u001b[38;5;28mprint\u001b[39m(\u001b[38;5;124m\"\u001b[39m\u001b[38;5;124mintensity_data shape: \u001b[39m\u001b[38;5;132;01m{}\u001b[39;00m\u001b[38;5;124m\"\u001b[39m\u001b[38;5;241m.\u001b[39mformat(intensity_data\u001b[38;5;241m.\u001b[39mshape))\n",
      "File \u001b[1;32mc:\\Users\\Teddy\\Documents\\GitHub\\gixtpy\\gixtpy.py:47\u001b[0m, in \u001b[0;36mload_tiff_data\u001b[1;34m(files)\u001b[0m\n\u001b[0;32m     45\u001b[0m files \u001b[38;5;241m=\u001b[39m \u001b[38;5;28mlist\u001b[39m(files)\n\u001b[0;32m     46\u001b[0m \u001b[38;5;28;01mtry\u001b[39;00m:\n\u001b[1;32m---> 47\u001b[0m     \u001b[38;5;28mprint\u001b[39m(os\u001b[38;5;241m.\u001b[39mpath\u001b[38;5;241m.\u001b[39mjoin(\u001b[38;5;241m*\u001b[39m\u001b[43mfiles\u001b[49m\u001b[43m[\u001b[49m\u001b[38;5;241;43m0\u001b[39;49m\u001b[43m]\u001b[49m\u001b[38;5;241m.\u001b[39msplit(\u001b[38;5;124m'\u001b[39m\u001b[38;5;124m/\u001b[39m\u001b[38;5;124m'\u001b[39m)[:\u001b[38;5;241m-\u001b[39m\u001b[38;5;241m1\u001b[39m]))\n\u001b[0;32m     48\u001b[0m \u001b[38;5;28;01mexcept\u001b[39;00m \u001b[38;5;167;01mTypeError\u001b[39;00m:\n\u001b[0;32m     49\u001b[0m     \u001b[38;5;28mprint\u001b[39m(os\u001b[38;5;241m.\u001b[39mpath\u001b[38;5;241m.\u001b[39mjoin(\u001b[38;5;241m*\u001b[39mfiles[\u001b[38;5;241m0\u001b[39m]\u001b[38;5;241m.\u001b[39msplit(\u001b[38;5;124m'\u001b[39m\u001b[38;5;130;01m\\\\\u001b[39;00m\u001b[38;5;124m'\u001b[39m)[:\u001b[38;5;241m-\u001b[39m\u001b[38;5;241m1\u001b[39m]))\n",
      "\u001b[1;31mIndexError\u001b[0m: list index out of range"
     ]
    }
   ],
   "source": [
    "import numpy as np\n",
    "import gixtpy as gp\n",
    "%matplotlib qt\n",
    "import tkinter\n",
    "\n",
    "default_path = None\n",
    "# default_path = \"/home/saxs/DATA\"\n",
    "\n",
    "# Create Tk root\n",
    "root = tkinter.Tk()\n",
    "# Hide the main window\n",
    "root.withdraw()\n",
    "root.call('wm', 'attributes', '.', '-topmost', True)\n",
    "\n",
    "# get list of paths (strings) to each data file\n",
    "tiff_list = gp.search_tiff_files(default_path)\n",
    "\n",
    "\"\"\"\n",
    "Load data as numpy arrays.\n",
    "angles = 1D array of motor angle settings\n",
    "intenisty_data = 3D array of intesnities; indices are (angle_index, z_index, x_index)\n",
    "direct_beam = 2D array of intensity of the direct beam exposure; indices are (z_index, x_index)\n",
    "\"\"\"\n",
    "angles, intensity_data, direct_beam = gp.load_tiff_data(tiff_list)\n",
    "\n",
    "print(\"angles shape: {}\".format(angles.shape))\n",
    "print(\"intensity_data shape: {}\".format(intensity_data.shape))\n",
    "print(\"direct_beam shape: {}\".format(direct_beam.shape))\n",
    "\n",
    "# %gui tk"
   ]
  },
  {
   "cell_type": "markdown",
   "metadata": {},
   "source": [
    "Optional: Display a file"
   ]
  },
  {
   "cell_type": "code",
   "execution_count": 3,
   "metadata": {},
   "outputs": [],
   "source": [
    "clip = None         # clip intensity\n",
    "log_scale = True    # log scale\n",
    "\n",
    "gp.display_tiff(direct_beam, clip, log_scale)"
   ]
  },
  {
   "cell_type": "markdown",
   "metadata": {},
   "source": [
    "### Crop data\n",
    "Will animate data to confirm the crop"
   ]
  },
  {
   "cell_type": "code",
   "execution_count": 8,
   "metadata": {},
   "outputs": [
    {
     "name": "stdout",
     "output_type": "stream",
     "text": [
      "done\n"
     ]
    }
   ],
   "source": [
    "import matplotlib.pylab as plt\n",
    "\n",
    "x_pixel_width = 13  # number of pixels to sum across horizontally centered around the beam center\n",
    "pixels_above = 50   # number of pixels above the beam to keep (for crop)\n",
    "pixels_below = 20   # number of pixels below the beam to keep (for crop)\n",
    "pixel_size = 0.075  # mm/pixel\n",
    "\n",
    "\"\"\"Crop data\"\"\"\n",
    "id_c, db_c = gp.crop_data(intensity_data, direct_beam, x_pixel_width, pixels_above, pixels_below)\n",
    "\n",
    "\"\"\"Color Scheme Code\"\"\"\n",
    "color_code = 0\n",
    "\n",
    "\"\"\"Animate\"\"\"\n",
    "fps = 48                  # frames per second\n",
    "clip_level = None         # counts clipping level\n",
    "log_scale = True          # animate on a log scale\n",
    "\n",
    "fig, ani = gp.animate_tiffs(id_c, fps, clip_level, log_scale, color_code)\n",
    "\n",
    "\"\"\"Plot counts vs z vs counts\"\"\"\n",
    "clip_level = None         # counts clipping level\n",
    "log_scale = True          # animate on a log scale\n",
    "gp.plot_tuning(angles, id_c, pixel_size, clip_level, log_scale, color_code)\n",
    "plt.title(\"Silicon with Oxide Layer\")\n",
    "print(\"done\")"
   ]
  },
  {
   "cell_type": "code",
   "execution_count": null,
   "metadata": {},
   "outputs": [],
   "source": []
  }
 ],
 "metadata": {
  "kernelspec": {
   "display_name": "Python 3",
   "language": "python",
   "name": "python3"
  },
  "language_info": {
   "codemirror_mode": {
    "name": "ipython",
    "version": 3
   },
   "file_extension": ".py",
   "mimetype": "text/x-python",
   "name": "python",
   "nbconvert_exporter": "python",
   "pygments_lexer": "ipython3",
   "version": "3.12.3"
  }
 },
 "nbformat": 4,
 "nbformat_minor": 2
}
