{
 "cells": [
  {
   "cell_type": "markdown",
   "metadata": {},
   "source": [
    "# Tune angle for GIWAXS\n",
    "### First steps\n",
    "Run \"make_SAXS_macro.py\" or the following cell"
   ]
  },
  {
   "cell_type": "code",
   "execution_count": null,
   "metadata": {},
   "outputs": [],
   "source": [
    "import make_SAXS_macro as mk_macro\n",
    "\n",
    "start = 0.0     # angle to start sweep at\n",
    "finish = 1.2    # last angle to include\n",
    "step = 0.005    # how much angle to change between each exposure\n",
    "tag = \"\"        # optional text to add to file name\n",
    "\n",
    "# create list of angles to scan\n",
    "angles = mk_macro.arange(start, finish, step)\n",
    "\n",
    "# create file in Macros directory\n",
    "mk_macro.create_file(angles, tag)"
   ]
  },
  {
   "cell_type": "markdown",
   "metadata": {},
   "source": [
    "## Load data set"
   ]
  },
  {
   "cell_type": "code",
   "execution_count": 7,
   "metadata": {},
   "outputs": [
    {
     "ename": "AttributeError",
     "evalue": "module 'gixtpy' has no attribute 'search_tiff_files'",
     "output_type": "error",
     "traceback": [
      "\u001b[1;31m---------------------------------------------------------------------------\u001b[0m",
      "\u001b[1;31mAttributeError\u001b[0m                            Traceback (most recent call last)",
      "\u001b[1;32mc:\\Users\\Teddy\\Documents\\GitHub\\gixtpy\\main.ipynb Cell 4\u001b[0m line \u001b[0;36m1\n\u001b[0;32m     <a href='vscode-notebook-cell:/c%3A/Users/Teddy/Documents/GitHub/gixtpy/main.ipynb#W3sZmlsZQ%3D%3D?line=13'>14</a>\u001b[0m root\u001b[39m.\u001b[39mcall(\u001b[39m'\u001b[39m\u001b[39mwm\u001b[39m\u001b[39m'\u001b[39m, \u001b[39m'\u001b[39m\u001b[39mattributes\u001b[39m\u001b[39m'\u001b[39m, \u001b[39m'\u001b[39m\u001b[39m.\u001b[39m\u001b[39m'\u001b[39m, \u001b[39m'\u001b[39m\u001b[39m-topmost\u001b[39m\u001b[39m'\u001b[39m, \u001b[39mTrue\u001b[39;00m)\n\u001b[0;32m     <a href='vscode-notebook-cell:/c%3A/Users/Teddy/Documents/GitHub/gixtpy/main.ipynb#W3sZmlsZQ%3D%3D?line=15'>16</a>\u001b[0m \u001b[39m# get list of paths (strings) to each data file\u001b[39;00m\n\u001b[1;32m---> <a href='vscode-notebook-cell:/c%3A/Users/Teddy/Documents/GitHub/gixtpy/main.ipynb#W3sZmlsZQ%3D%3D?line=16'>17</a>\u001b[0m tiff_list \u001b[39m=\u001b[39m gp\u001b[39m.\u001b[39;49msearch_tiff_files(default_path)\n\u001b[0;32m     <a href='vscode-notebook-cell:/c%3A/Users/Teddy/Documents/GitHub/gixtpy/main.ipynb#W3sZmlsZQ%3D%3D?line=18'>19</a>\u001b[0m \u001b[39m\"\"\"\u001b[39;00m\n\u001b[0;32m     <a href='vscode-notebook-cell:/c%3A/Users/Teddy/Documents/GitHub/gixtpy/main.ipynb#W3sZmlsZQ%3D%3D?line=19'>20</a>\u001b[0m \u001b[39mLoad data as numpy arrays.\u001b[39;00m\n\u001b[0;32m     <a href='vscode-notebook-cell:/c%3A/Users/Teddy/Documents/GitHub/gixtpy/main.ipynb#W3sZmlsZQ%3D%3D?line=20'>21</a>\u001b[0m \u001b[39mangles = 1D array of motor angle settings\u001b[39;00m\n\u001b[0;32m     <a href='vscode-notebook-cell:/c%3A/Users/Teddy/Documents/GitHub/gixtpy/main.ipynb#W3sZmlsZQ%3D%3D?line=21'>22</a>\u001b[0m \u001b[39mintenisty_data = 3D array of intesnities; indices are (angle_index, z_index, x_index)\u001b[39;00m\n\u001b[0;32m     <a href='vscode-notebook-cell:/c%3A/Users/Teddy/Documents/GitHub/gixtpy/main.ipynb#W3sZmlsZQ%3D%3D?line=22'>23</a>\u001b[0m \u001b[39mdirect_beam = 2D array of intensity of the direct beam exposure; indices are (z_index, x_index)\u001b[39;00m\n\u001b[0;32m     <a href='vscode-notebook-cell:/c%3A/Users/Teddy/Documents/GitHub/gixtpy/main.ipynb#W3sZmlsZQ%3D%3D?line=23'>24</a>\u001b[0m \u001b[39m\"\"\"\u001b[39;00m\n\u001b[0;32m     <a href='vscode-notebook-cell:/c%3A/Users/Teddy/Documents/GitHub/gixtpy/main.ipynb#W3sZmlsZQ%3D%3D?line=24'>25</a>\u001b[0m angles, intensity_data, direct_beam \u001b[39m=\u001b[39m gp\u001b[39m.\u001b[39mtiff_data(tiff_list)\n",
      "\u001b[1;31mAttributeError\u001b[0m: module 'gixtpy' has no attribute 'search_tiff_files'"
     ]
    }
   ],
   "source": [
    "import numpy as np\n",
    "# import matplotlib.pylab as plt\n",
    "import gixtpy as gp\n",
    "%matplotlib qt\n",
    "import tkinter\n",
    "\n",
    "default_path = None\n",
    "# default_path = \"/home/saxs/DATA\"\n",
    "\n",
    "# Create Tk root\n",
    "root = tkinter.Tk()\n",
    "# Hide the main window\n",
    "root.withdraw()\n",
    "root.call('wm', 'attributes', '.', '-topmost', True)\n",
    "\n",
    "# get list of paths (strings) to each data file\n",
    "tiff_list = gp.search_tiff_files(default_path)\n",
    "\n",
    "\"\"\"\n",
    "Load data as numpy arrays.\n",
    "angles = 1D array of motor angle settings\n",
    "intenisty_data = 3D array of intesnities; indices are (angle_index, z_index, x_index)\n",
    "direct_beam = 2D array of intensity of the direct beam exposure; indices are (z_index, x_index)\n",
    "\"\"\"\n",
    "angles, intensity_data, direct_beam = gp.load_tiff_data(tiff_list)\n",
    "\n",
    "print(\"angles shape: {}\".format(angles.shape))\n",
    "print(\"intensity_data shape: {}\".format(intensity_data.shape))\n",
    "print(\"direct_beam shape: {}\".format(direct_beam.shape))\n",
    "\n",
    "# %gui tk"
   ]
  },
  {
   "cell_type": "markdown",
   "metadata": {},
   "source": [
    "Optional: Display a file"
   ]
  },
  {
   "cell_type": "code",
   "execution_count": null,
   "metadata": {},
   "outputs": [],
   "source": [
    "clip = None         # clip intensity\n",
    "log_scale = True    # log scale\n",
    "\n",
    "gp.display_tiff(direct_beam, clip, log_scale)\n",
    "plt.show()"
   ]
  },
  {
   "cell_type": "markdown",
   "metadata": {},
   "source": [
    "### Crop data\n",
    "Will animate data to confirm the crop"
   ]
  },
  {
   "cell_type": "code",
   "execution_count": null,
   "metadata": {},
   "outputs": [],
   "source": [
    "x_pixel_width = 13  # number of pixels to sum across horizontally centered around the beam center\n",
    "pixels_above = 50   # number of pixels above the beam to keep (for crop)\n",
    "pixels_below = 20   # number of pixels below the beam to keep (for crop)\n",
    "pixel_size = 0.075  # mm/pixel\n",
    "\n",
    "\"\"\"Crop data\"\"\"\n",
    "id_c, db_c = gp.crop_data(intensity_data, direct_beam, x_pixel_width, pixels_above, pixels_below)\n",
    "\n",
    "\"\"\"Color Scheme Code\"\"\"\n",
    "color_code = 0\n",
    "\n",
    "\"\"\"Animate\"\"\"\n",
    "fps = 48                  # frames per second\n",
    "clip_level = None         # counts clipping level\n",
    "log_scale = True          # animate on a log scale\n",
    "\n",
    "fig, ani = gp.animate_tiffs(id_c, fps, clip_level, log_scale, color_code)\n",
    "\n",
    "\"\"\"Plot counts vs z vs counts\"\"\"\n",
    "clip_level = None         # counts clipping level\n",
    "log_scale = True          # animate on a log scale\n",
    "gp.plot_tuning(angles, id_c, pixel_size, clip_level, log_scale, color_code)\n",
    "\n",
    "print(\"done\")"
   ]
  }
 ],
 "metadata": {
  "kernelspec": {
   "display_name": "Python 3",
   "language": "python",
   "name": "python3"
  },
  "language_info": {
   "codemirror_mode": {
    "name": "ipython",
    "version": 3
   },
   "file_extension": ".py",
   "mimetype": "text/x-python",
   "name": "python",
   "nbconvert_exporter": "python",
   "pygments_lexer": "ipython3",
   "version": "3.10.13"
  }
 },
 "nbformat": 4,
 "nbformat_minor": 2
}
