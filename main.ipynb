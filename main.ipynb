{
 "cells": [
  {
   "cell_type": "markdown",
   "metadata": {},
   "source": [
    "# Tune angle for GIWAXS\n",
    "### First steps\n",
    "Run \"make_SAXS_macro.py\" or the following cell"
   ]
  },
  {
   "cell_type": "code",
   "execution_count": null,
   "metadata": {},
   "outputs": [],
   "source": [
    "import make_SAXS_macro as mk_macro\n",
    "\n",
    "start = 0.0     # angle to start sweep at\n",
    "finish = 1.2    # last angle to include\n",
    "step = 0.005    # how much angle to change between each exposure\n",
    "tag = \"\"        # optional text to add to file name\n",
    "\n",
    "# create list of angles to scan\n",
    "angles = mk_macro.arange(start, finish, step)\n",
    "\n",
    "# create file in Macros directory\n",
    "mk_macro.create_file(angles, tag)"
   ]
  },
  {
   "cell_type": "markdown",
   "metadata": {},
   "source": [
    "## Load data set"
   ]
  },
  {
   "cell_type": "code",
   "execution_count": null,
   "metadata": {},
   "outputs": [],
   "source": [
    "import numpy as np\n",
    "# import matplotlib.pylab as plt\n",
    "import gixspy as gp\n",
    "%matplotlib qt\n",
    "import tkinter\n",
    "\n",
    "default_path = \"/home/saxs/DATA\"\n",
    "\n",
    "# Create Tk root\n",
    "root = tkinter.Tk()\n",
    "# Hide the main window\n",
    "root.withdraw()\n",
    "root.call('wm', 'attributes', '.', '-topmost', True)\n",
    "\n",
    "# get list of paths (strings) to each data file\n",
    "tiff_list = gp.search_tiffs(default_path)\n",
    "\n",
    "\"\"\"\n",
    "Load data as numpy arrays.\n",
    "angles = 1D array of motor angle settings\n",
    "intenisty_data = 3D array of intesnities; indices are (angle_index, z_index, x_index)\n",
    "direct_beam = 2D array of intensity of the direct beam exposure; indices are (z_index, x_index)\n",
    "\"\"\"\n",
    "angles, intensity_data, direct_beam = gp.tiff_data(tiff_list)\n",
    "\n",
    "print(\"angles shape: {}\".format(angles.shape))\n",
    "print(\"intensity_data shape: {}\".format(intensity_data.shape))\n",
    "print(\"direct_beam shape: {}\".format(direct_beam.shape))\n",
    "\n",
    "# %gui tk"
   ]
  },
  {
   "cell_type": "markdown",
   "metadata": {},
   "source": [
    "Optional: Display a file"
   ]
  },
  {
   "cell_type": "code",
   "execution_count": null,
   "metadata": {},
   "outputs": [],
   "source": [
    "clip = None         # clip intensity\n",
    "log_scale = True    # log scale\n",
    "\n",
    "gp.display_tiff(direct_beam, clip, log_scale)\n",
    "plt.show()"
   ]
  },
  {
   "cell_type": "markdown",
   "metadata": {},
   "source": [
    "### Crop data\n",
    "Will animate data to confirm the crop"
   ]
  },
  {
   "cell_type": "code",
   "execution_count": null,
   "metadata": {},
   "outputs": [],
   "source": [
    "x_pixel_width = 13  # number of pixels to sum across horizontally centered around the beam center\n",
    "pixels_above = 50   # number of pixels above the beam to keep (for crop)\n",
    "pixels_below = 20   # number of pixels below the beam to keep (for crop)\n",
    "pixel_size = 0.075  # mm/pixel\n",
    "\n",
    "\"\"\"Crop data\"\"\"\n",
    "id_c, db_c = gp.crop_data(intensity_data, direct_beam, x_pixel_width, pixels_above, pixels_below)\n",
    "\n",
    "\"\"\"Color Scheme Code\"\"\"\n",
    "color_code = 0\n",
    "\n",
    "\"\"\"Animate\"\"\"\n",
    "fps = 48                  # frames per second\n",
    "clip_level = None         # counts clipping level\n",
    "log_scale = True          # animate on a log scale\n",
    "\n",
    "fig, ani = gp.animate_tiffs(id_c, fps, clip_level, log_scale, color_code)\n",
    "\n",
    "\"\"\"Plot counts vs z vs counts\"\"\"\n",
    "clip_level = None         # counts clipping level\n",
    "log_scale = True          # animate on a log scale\n",
    "gp.plot_tuning(angles, id_c, pixel_size, clip_level, log_scale, color_code)\n",
    "\n",
    "print(\"done\")"
   ]
  }
 ],
 "metadata": {
  "kernelspec": {
   "display_name": "Python 3",
   "language": "python",
   "name": "python3"
  },
  "language_info": {
   "codemirror_mode": {
    "name": "ipython",
    "version": 3
   },
   "file_extension": ".py",
   "mimetype": "text/x-python",
   "name": "python",
   "nbconvert_exporter": "python",
   "pygments_lexer": "ipython3",
   "version": "3.11.2"
  }
 },
 "nbformat": 4,
 "nbformat_minor": 2
}
